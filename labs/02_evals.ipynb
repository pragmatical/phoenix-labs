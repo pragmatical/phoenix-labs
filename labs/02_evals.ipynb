{
 "cells": [
  {
   "cell_type": "code",
   "execution_count": null,
   "metadata": {},
   "outputs": [],
   "source": [
    "import os\n",
    "from dotenv import load_dotenv\n",
    "load_dotenv()\n",
    "\n",
    "# The base URL for your Azure OpenAI resource. e.g. \"https://<your resource name>.openai.azure.com\"\n",
    "base_url = os.getenv(\"AZURE_OPENAI_ENDPOINT\")\n",
    "# The API key for your Azure OpenAI resource.\n",
    "api_key = os.getenv(\"AZURE_OPENAI_API_KEY\")\n",
    "# Setting up the deployment name\n",
    "gpt_model_name = os.getenv(\"AZURE_OPENAI_GPT_MODEL\")\n",
    "embedding_model_name = os.getenv(\"AZURE_OPENAI_EMBEDDING_MODEL\")\n",
    "# Currently Chat Completions API have the following versions available: 2023-03-15-preview\n",
    "api_version = os.getenv(\"AZURE_OPENAI_API_VERSION\")\n",
    "api_type = \"azure\""
   ]
  },
  {
   "cell_type": "code",
   "execution_count": null,
   "metadata": {},
   "outputs": [],
   "source": [
    "from phoenix.evals import (\n",
    "    RAG_RELEVANCY_PROMPT_TEMPLATE,\n",
    "    RAG_RELEVANCY_PROMPT_RAILS_MAP,\n",
    "    OpenAIModel,\n",
    "    download_benchmark_dataset,\n",
    "    llm_classify,\n",
    ")\n",
    "from sklearn.metrics import precision_recall_fscore_support, confusion_matrix, ConfusionMatrixDisplay\n",
    "\n",
    "# Download the benchmark golden dataset\n",
    "df = download_benchmark_dataset(\n",
    "    task=\"binary-relevance-classification\", dataset_name=\"wiki_qa-train\"\n",
    ")\n",
    "# Sample and re-name the columns to match the template\n",
    "df = df.sample(100)\n",
    "df = df.rename(\n",
    "    columns={\n",
    "        \"query_text\": \"input\",\n",
    "        \"document_text\": \"reference\",\n",
    "    },\n",
    ")\n",
    "model = OpenAIModel(\n",
    "    model=gpt_model_name,\n",
    "    api_key=api_key,\n",
    "    azure_endpoint=base_url,\n",
    "    api_version=api_version,\n",
    ")\n",
    "rails =list(RAG_RELEVANCY_PROMPT_RAILS_MAP.values())\n",
    "df[[\"eval_relevance\"]] = llm_classify(df, model, RAG_RELEVANCY_PROMPT_TEMPLATE, rails)\n",
    "#Golden dataset has True/False map to -> \"irrelevant\" / \"relevant\"\n",
    "#we can then scikit compare to output of template - same format\n",
    "y_true = df[\"relevant\"].map({True: \"relevant\", False: \"irrelevant\"})\n",
    "y_pred = df[\"eval_relevance\"]\n",
    "\n",
    "# Compute Per-Class Precision, Recall, F1 Score, Support\n",
    "precision, recall, f1, support = precision_recall_fscore_support(y_true, y_pred)"
   ]
  }
 ],
 "metadata": {
  "kernelspec": {
   "display_name": "phoenix",
   "language": "python",
   "name": "python3"
  },
  "language_info": {
   "codemirror_mode": {
    "name": "ipython",
    "version": 3
   },
   "file_extension": ".py",
   "mimetype": "text/x-python",
   "name": "python",
   "nbconvert_exporter": "python",
   "pygments_lexer": "ipython3",
   "version": "3.11.6"
  }
 },
 "nbformat": 4,
 "nbformat_minor": 2
}
